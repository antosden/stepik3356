{
 "cells": [
  {
   "cell_type": "code",
   "execution_count": 2,
   "metadata": {},
   "outputs": [],
   "source": [
    "import numpy as np"
   ]
  },
  {
   "cell_type": "code",
   "execution_count": 4,
   "metadata": {},
   "outputs": [],
   "source": [
    "numbers = [float(x) for x in input().split(', ')]\n",
    "\n",
    "V1 = np.array(numbers)\n",
    "V2 = np.array([numbers[-2]])\n",
    "V3 = np.array(numbers[::-1])\n",
    "V4 = np.array(numbers[0::3])\n",
    "V5 = np.array(range(len(numbers)))\n"
   ]
  },
  {
   "cell_type": "code",
   "execution_count": 6,
   "metadata": {},
   "outputs": [],
   "source": [
    "V1 = np.array([int(x) for x in input().split(', ')])\n",
    "V2 = np.array([int(x) for x in input().split(', ')])\n",
    "V3 = V1 + V2\n",
    "V4 =V1[::2] * (V2[::-1])[::2]"
   ]
  },
  {
   "cell_type": "code",
   "execution_count": 13,
   "metadata": {},
   "outputs": [
    {
     "data": {
      "text/plain": [
       "array([1., 2.])"
      ]
     },
     "execution_count": 13,
     "metadata": {},
     "output_type": "execute_result"
    }
   ],
   "source": [
    "V1 = np.array([int(x) for x in input().split(', ')])\n",
    "V2 = np.array([int(x) for x in input().split(', ')])\n",
    "\n",
    "V = np.array([v / V2[-2] for v in V1 if v % V2[-2] == 0])\n",
    "V"
   ]
  },
  {
   "cell_type": "code",
   "execution_count": 14,
   "metadata": {},
   "outputs": [],
   "source": [
    "M1 = np.array((\n",
    "    (1., 2., 3., 0.),\n",
    "    (4., 5., 6., 0.),\n",
    "    (0., 1., 1., 6.),\n",
    "    (7., 8., 9., 0.)\n",
    "))"
   ]
  },
  {
   "cell_type": "code",
   "execution_count": 32,
   "metadata": {},
   "outputs": [
    {
     "data": {
      "text/plain": [
       "'1.26.0'"
      ]
     },
     "execution_count": 32,
     "metadata": {},
     "output_type": "execute_result"
    }
   ],
   "source": [
    "np.__version__"
   ]
  },
  {
   "cell_type": "code",
   "execution_count": 56,
   "metadata": {},
   "outputs": [
    {
     "data": {
      "text/plain": [
       "8"
      ]
     },
     "execution_count": 56,
     "metadata": {},
     "output_type": "execute_result"
    }
   ],
   "source": [
    "Z = np.zeros((10,10))\n",
    "Z[0].itemsize"
   ]
  },
  {
   "cell_type": "code",
   "execution_count": 46,
   "metadata": {},
   "outputs": [],
   "source": [
    "data = input().split()"
   ]
  },
  {
   "cell_type": "code",
   "execution_count": 47,
   "metadata": {},
   "outputs": [
    {
     "data": {
      "text/plain": [
       "['5']"
      ]
     },
     "execution_count": 47,
     "metadata": {},
     "output_type": "execute_result"
    }
   ],
   "source": [
    "data"
   ]
  },
  {
   "cell_type": "code",
   "execution_count": 53,
   "metadata": {},
   "outputs": [
    {
     "data": {
      "text/plain": [
       "array([0., 0., 0., 0., 0.])"
      ]
     },
     "execution_count": 53,
     "metadata": {},
     "output_type": "execute_result"
    }
   ],
   "source": [
    "np.zeros()"
   ]
  },
  {
   "cell_type": "code",
   "execution_count": 55,
   "metadata": {},
   "outputs": [
    {
     "data": {
      "text/plain": [
       "False"
      ]
     },
     "execution_count": 55,
     "metadata": {},
     "output_type": "execute_result"
    }
   ],
   "source": [
    "isinstance(input().split()[-1], int)"
   ]
  },
  {
   "cell_type": "code",
   "execution_count": 9,
   "metadata": {},
   "outputs": [
    {
     "data": {
      "text/plain": [
       "800"
      ]
     },
     "execution_count": 9,
     "metadata": {},
     "output_type": "execute_result"
    }
   ],
   "source": [
    "Z = np.zeros((10,10))\n",
    "\n",
    "Z.nbytes"
   ]
  },
  {
   "cell_type": "code",
   "execution_count": 16,
   "metadata": {},
   "outputs": [
    {
     "name": "stdout",
     "output_type": "stream",
     "text": [
      "array(object, dtype=None, *, copy=True, order='K', subok=False, ndmin=0,\n",
      "      like=None)\n",
      "\n",
      "Create an array.\n",
      "\n",
      "Parameters\n",
      "----------\n",
      "object : array_like\n",
      "    An array, any object exposing the array interface, an object whose\n",
      "    ``__array__`` method returns an array, or any (nested) sequence.\n",
      "    If object is a scalar, a 0-dimensional array containing object is\n",
      "    returned.\n",
      "dtype : data-type, optional\n",
      "    The desired data-type for the array. If not given, NumPy will try to use\n",
      "    a default ``dtype`` that can represent the values (by applying promotion\n",
      "    rules when necessary.)\n",
      "copy : bool, optional\n",
      "    If true (default), then the object is copied.  Otherwise, a copy will\n",
      "    only be made if ``__array__`` returns a copy, if obj is a nested\n",
      "    sequence, or if a copy is needed to satisfy any of the other\n",
      "    requirements (``dtype``, ``order``, etc.).\n",
      "order : {'K', 'A', 'C', 'F'}, optional\n",
      "    Specify the memory layout of the array. If object is not an array, the\n",
      "    newly created array will be in C order (row major) unless 'F' is\n",
      "    specified, in which case it will be in Fortran order (column major).\n",
      "    If object is an array the following holds.\n",
      "\n",
      "    ===== ========= ===================================================\n",
      "    order  no copy                     copy=True\n",
      "    ===== ========= ===================================================\n",
      "    'K'   unchanged F & C order preserved, otherwise most similar order\n",
      "    'A'   unchanged F order if input is F and not C, otherwise C order\n",
      "    'C'   C order   C order\n",
      "    'F'   F order   F order\n",
      "    ===== ========= ===================================================\n",
      "\n",
      "    When ``copy=False`` and a copy is made for other reasons, the result is\n",
      "    the same as if ``copy=True``, with some exceptions for 'A', see the\n",
      "    Notes section. The default order is 'K'.\n",
      "subok : bool, optional\n",
      "    If True, then sub-classes will be passed-through, otherwise\n",
      "    the returned array will be forced to be a base-class array (default).\n",
      "ndmin : int, optional\n",
      "    Specifies the minimum number of dimensions that the resulting\n",
      "    array should have.  Ones will be prepended to the shape as\n",
      "    needed to meet this requirement.\n",
      "like : array_like, optional\n",
      "    Reference object to allow the creation of arrays which are not\n",
      "    NumPy arrays. If an array-like passed in as ``like`` supports\n",
      "    the ``__array_function__`` protocol, the result will be defined\n",
      "    by it. In this case, it ensures the creation of an array object\n",
      "    compatible with that passed in via this argument.\n",
      "\n",
      "    .. versionadded:: 1.20.0\n",
      "\n",
      "Returns\n",
      "-------\n",
      "out : ndarray\n",
      "    An array object satisfying the specified requirements.\n",
      "\n",
      "See Also\n",
      "--------\n",
      "empty_like : Return an empty array with shape and type of input.\n",
      "ones_like : Return an array of ones with shape and type of input.\n",
      "zeros_like : Return an array of zeros with shape and type of input.\n",
      "full_like : Return a new array with shape of input filled with value.\n",
      "empty : Return a new uninitialized array.\n",
      "ones : Return a new array setting values to one.\n",
      "zeros : Return a new array setting values to zero.\n",
      "full : Return a new array of given shape filled with value.\n",
      "\n",
      "\n",
      "Notes\n",
      "-----\n",
      "When order is 'A' and ``object`` is an array in neither 'C' nor 'F' order,\n",
      "and a copy is forced by a change in dtype, then the order of the result is\n",
      "not necessarily 'C' as expected. This is likely a bug.\n",
      "\n",
      "Examples\n",
      "--------\n",
      ">>> np.array([1, 2, 3])\n",
      "array([1, 2, 3])\n",
      "\n",
      "Upcasting:\n",
      "\n",
      ">>> np.array([1, 2, 3.0])\n",
      "array([ 1.,  2.,  3.])\n",
      "\n",
      "More than one dimension:\n",
      "\n",
      ">>> np.array([[1, 2], [3, 4]])\n",
      "array([[1, 2],\n",
      "       [3, 4]])\n",
      "\n",
      "Minimum dimensions 2:\n",
      "\n",
      ">>> np.array([1, 2, 3], ndmin=2)\n",
      "array([[1, 2, 3]])\n",
      "\n",
      "Type provided:\n",
      "\n",
      ">>> np.array([1, 2, 3], dtype=complex)\n",
      "array([ 1.+0.j,  2.+0.j,  3.+0.j])\n",
      "\n",
      "Data-type consisting of more than one element:\n",
      "\n",
      ">>> x = np.array([(1,2),(3,4)],dtype=[('a','<i4'),('b','<i4')])\n",
      ">>> x['a']\n",
      "array([1, 3])\n",
      "\n",
      "Creating an array from sub-classes:\n",
      "\n",
      ">>> np.array(np.mat('1 2; 3 4'))\n",
      "array([[1, 2],\n",
      "       [3, 4]])\n",
      "\n",
      ">>> np.array(np.mat('1 2; 3 4'), subok=True)\n",
      "matrix([[1, 2],\n",
      "        [3, 4]])\n"
     ]
    }
   ],
   "source": [
    "np.info(np.array)"
   ]
  },
  {
   "cell_type": "code",
   "execution_count": 19,
   "metadata": {},
   "outputs": [
    {
     "data": {
      "text/plain": [
       "array([0., 0., 0., 0., 1., 0., 0., 0., 0., 0.])"
      ]
     },
     "execution_count": 19,
     "metadata": {},
     "output_type": "execute_result"
    }
   ],
   "source": [
    "n = int(input())\n",
    "x = int(input())\n",
    "\n",
    "Z = np.zeros(n)\n",
    "Z[x] = 1\n",
    "\n",
    "Z"
   ]
  },
  {
   "cell_type": "code",
   "execution_count": 24,
   "metadata": {},
   "outputs": [
    {
     "data": {
      "text/plain": [
       "array([10, 11, 12, 13, 14, 15, 16, 17, 18, 19, 20, 21, 22, 23, 24, 25, 26,\n",
       "       27, 28, 29, 30, 31, 32, 33, 34, 35, 36, 37, 38, 39, 40, 41, 42, 43,\n",
       "       44, 45, 46, 47, 48, 49, 50])"
      ]
     },
     "execution_count": 24,
     "metadata": {},
     "output_type": "execute_result"
    }
   ],
   "source": [
    "n, m = int(input()), int(input())\n",
    "Z = np.array([x for x in range(n, m + 1)])\n",
    "\n",
    "Z"
   ]
  },
  {
   "cell_type": "code",
   "execution_count": 44,
   "metadata": {},
   "outputs": [
    {
     "data": {
      "text/plain": [
       "array([[0., 3., 2., 1.],\n",
       "       [0., 6., 5., 4.],\n",
       "       [6., 1., 1., 0.],\n",
       "       [0., 9., 8., 7.]])"
      ]
     },
     "execution_count": 44,
     "metadata": {},
     "output_type": "execute_result"
    }
   ],
   "source": [
    "import numpy as np\n",
    "\n",
    "Z = np.array((\n",
    "    (1., 2., 3., 0.),\n",
    "    (4., 5., 6., 0.),\n",
    "    (0., 1., 1., 6.),\n",
    "    (7., 8., 9., 0.)\n",
    "))\n",
    "Z = np.flip(Z,1)\n",
    "Z"
   ]
  },
  {
   "cell_type": "code",
   "execution_count": 64,
   "metadata": {},
   "outputs": [
    {
     "data": {
      "text/plain": [
       "array([[0., 1., 2.],\n",
       "       [3., 4., 5.]])"
      ]
     },
     "execution_count": 64,
     "metadata": {},
     "output_type": "execute_result"
    }
   ],
   "source": [
    "\n",
    "m, k = 2, 3\n",
    "\n",
    "Z = np.zeros((m, k))\n",
    "\n",
    "for i in range(1, m + 1):\n",
    "    Z[i - 1, :] = [x for x in range(k * (i - 1), k * i)]\n",
    "\n",
    "Z\n",
    "\n"
   ]
  },
  {
   "cell_type": "code",
   "execution_count": 60,
   "metadata": {},
   "outputs": [
    {
     "data": {
      "text/plain": [
       "array([[1., 1., 1.],\n",
       "       [0., 0., 0.]])"
      ]
     },
     "execution_count": 60,
     "metadata": {},
     "output_type": "execute_result"
    }
   ],
   "source": [
    "Z = np.zeros((2, 3))\n",
    "Z[0, :] = [1, 1, 1]\n",
    "\n",
    "Z"
   ]
  },
  {
   "cell_type": "code",
   "execution_count": 65,
   "metadata": {},
   "outputs": [
    {
     "name": "stdout",
     "output_type": "stream",
     "text": [
      "Gives a new shape to an array without changing its data.\n",
      "\n",
      "Parameters\n",
      "----------\n",
      "a : array_like\n",
      "    Array to be reshaped.\n",
      "newshape : int or tuple of ints\n",
      "    The new shape should be compatible with the original shape. If\n",
      "    an integer, then the result will be a 1-D array of that length.\n",
      "    One shape dimension can be -1. In this case, the value is\n",
      "    inferred from the length of the array and remaining dimensions.\n",
      "order : {'C', 'F', 'A'}, optional\n",
      "    Read the elements of `a` using this index order, and place the\n",
      "    elements into the reshaped array using this index order.  'C'\n",
      "    means to read / write the elements using C-like index order,\n",
      "    with the last axis index changing fastest, back to the first\n",
      "    axis index changing slowest. 'F' means to read / write the\n",
      "    elements using Fortran-like index order, with the first index\n",
      "    changing fastest, and the last index changing slowest. Note that\n",
      "    the 'C' and 'F' options take no account of the memory layout of\n",
      "    the underlying array, and only refer to the order of indexing.\n",
      "    'A' means to read / write the elements in Fortran-like index\n",
      "    order if `a` is Fortran *contiguous* in memory, C-like order\n",
      "    otherwise.\n",
      "\n",
      "Returns\n",
      "-------\n",
      "reshaped_array : ndarray\n",
      "    This will be a new view object if possible; otherwise, it will\n",
      "    be a copy.  Note there is no guarantee of the *memory layout* (C- or\n",
      "    Fortran- contiguous) of the returned array.\n",
      "\n",
      "See Also\n",
      "--------\n",
      "ndarray.reshape : Equivalent method.\n",
      "\n",
      "Notes\n",
      "-----\n",
      "It is not always possible to change the shape of an array without copying\n",
      "the data.\n",
      "\n",
      "The `order` keyword gives the index ordering both for *fetching* the values\n",
      "from `a`, and then *placing* the values into the output array.\n",
      "For example, let's say you have an array:\n",
      "\n",
      ">>> a = np.arange(6).reshape((3, 2))\n",
      ">>> a\n",
      "array([[0, 1],\n",
      "       [2, 3],\n",
      "       [4, 5]])\n",
      "\n",
      "You can think of reshaping as first raveling the array (using the given\n",
      "index order), then inserting the elements from the raveled array into the\n",
      "new array using the same kind of index ordering as was used for the\n",
      "raveling.\n",
      "\n",
      ">>> np.reshape(a, (2, 3)) # C-like index ordering\n",
      "array([[0, 1, 2],\n",
      "       [3, 4, 5]])\n",
      ">>> np.reshape(np.ravel(a), (2, 3)) # equivalent to C ravel then C reshape\n",
      "array([[0, 1, 2],\n",
      "       [3, 4, 5]])\n",
      ">>> np.reshape(a, (2, 3), order='F') # Fortran-like index ordering\n",
      "array([[0, 4, 3],\n",
      "       [2, 1, 5]])\n",
      ">>> np.reshape(np.ravel(a, order='F'), (2, 3), order='F')\n",
      "array([[0, 4, 3],\n",
      "       [2, 1, 5]])\n",
      "\n",
      "Examples\n",
      "--------\n",
      ">>> a = np.array([[1,2,3], [4,5,6]])\n",
      ">>> np.reshape(a, 6)\n",
      "array([1, 2, 3, 4, 5, 6])\n",
      ">>> np.reshape(a, 6, order='F')\n",
      "array([1, 4, 2, 5, 3, 6])\n",
      "\n",
      ">>> np.reshape(a, (3,-1))       # the unspecified value is inferred to be 2\n",
      "array([[1, 2],\n",
      "       [3, 4],\n",
      "       [5, 6]])\n"
     ]
    }
   ],
   "source": [
    "np.info(np.reshape)"
   ]
  },
  {
   "cell_type": "code",
   "execution_count": 171,
   "metadata": {},
   "outputs": [
    {
     "ename": "AttributeError",
     "evalue": "'tuple' object has no attribute 'tolist'",
     "output_type": "error",
     "traceback": [
      "\u001b[0;31m---------------------------------------------------------------------------\u001b[0m",
      "\u001b[0;31mAttributeError\u001b[0m                            Traceback (most recent call last)",
      "\u001b[1;32m/home/alisa/PycharmProjects/stepik3356/numpy/essentials.ipynb Cell 20\u001b[0m line \u001b[0;36m7\n\u001b[1;32m      <a href='vscode-notebook-cell:/home/alisa/PycharmProjects/stepik3356/numpy/essentials.ipynb#X36sZmlsZQ%3D%3D?line=0'>1</a>\u001b[0m Z \u001b[39m=\u001b[39m np\u001b[39m.\u001b[39marray(\n\u001b[1;32m      <a href='vscode-notebook-cell:/home/alisa/PycharmProjects/stepik3356/numpy/essentials.ipynb#X36sZmlsZQ%3D%3D?line=1'>2</a>\u001b[0m     [\n\u001b[1;32m      <a href='vscode-notebook-cell:/home/alisa/PycharmProjects/stepik3356/numpy/essentials.ipynb#X36sZmlsZQ%3D%3D?line=2'>3</a>\u001b[0m         [[\u001b[39m1\u001b[39m, \u001b[39m2\u001b[39m], [\u001b[39m4\u001b[39m, \u001b[39m5\u001b[39m]],\n\u001b[1;32m      <a href='vscode-notebook-cell:/home/alisa/PycharmProjects/stepik3356/numpy/essentials.ipynb#X36sZmlsZQ%3D%3D?line=3'>4</a>\u001b[0m         [[\u001b[39m7\u001b[39m, \u001b[39m8\u001b[39m], [\u001b[39m0\u001b[39m, \u001b[39m0\u001b[39m]]\n\u001b[1;32m      <a href='vscode-notebook-cell:/home/alisa/PycharmProjects/stepik3356/numpy/essentials.ipynb#X36sZmlsZQ%3D%3D?line=4'>5</a>\u001b[0m     ]\n\u001b[1;32m      <a href='vscode-notebook-cell:/home/alisa/PycharmProjects/stepik3356/numpy/essentials.ipynb#X36sZmlsZQ%3D%3D?line=5'>6</a>\u001b[0m           )\n\u001b[0;32m----> <a href='vscode-notebook-cell:/home/alisa/PycharmProjects/stepik3356/numpy/essentials.ipynb#X36sZmlsZQ%3D%3D?line=6'>7</a>\u001b[0m np\u001b[39m.\u001b[39;49mnonzero(Z \u001b[39m>\u001b[39;49m \u001b[39m3\u001b[39;49m)\u001b[39m.\u001b[39;49mtolist()\n",
      "\u001b[0;31mAttributeError\u001b[0m: 'tuple' object has no attribute 'tolist'"
     ]
    }
   ],
   "source": [
    "Z = np.array(\n",
    "    [\n",
    "        [[1, 2], [4, 5]],\n",
    "        [[7, 8], [0, 0]]\n",
    "    ]\n",
    "          )\n",
    "np.nonzero(Z > 3).tolist()"
   ]
  },
  {
   "cell_type": "code",
   "execution_count": 190,
   "metadata": {},
   "outputs": [
    {
     "data": {
      "text/plain": [
       "[4, 5, 7, 8]"
      ]
     },
     "execution_count": 190,
     "metadata": {},
     "output_type": "execute_result"
    }
   ],
   "source": [
    "Z = np.array([[[1, 2],\n",
    "           [4, 5]],\n",
    "          [[7, 8],\n",
    "           [0, 0]]])\n",
    "list(Z[Z > 3])"
   ]
  },
  {
   "cell_type": "code",
   "execution_count": 196,
   "metadata": {},
   "outputs": [
    {
     "data": {
      "text/plain": [
       "array([[1., 0., 0.],\n",
       "       [0., 1., 0.],\n",
       "       [0., 0., 1.]])"
      ]
     },
     "execution_count": 196,
     "metadata": {},
     "output_type": "execute_result"
    }
   ],
   "source": [
    "Z = np.eye(3)\n",
    "Z"
   ]
  },
  {
   "cell_type": "code",
   "execution_count": 199,
   "metadata": {},
   "outputs": [
    {
     "ename": "TypeError",
     "evalue": "order must be str, not int",
     "output_type": "error",
     "traceback": [
      "\u001b[0;31m---------------------------------------------------------------------------\u001b[0m",
      "\u001b[0;31mTypeError\u001b[0m                                 Traceback (most recent call last)",
      "\u001b[1;32m/home/alisa/PycharmProjects/stepik3356/numpy/essentials.ipynb Cell 23\u001b[0m line \u001b[0;36m5\n\u001b[1;32m      <a href='vscode-notebook-cell:/home/alisa/PycharmProjects/stepik3356/numpy/essentials.ipynb#X61sZmlsZQ%3D%3D?line=0'>1</a>\u001b[0m \u001b[39mimport\u001b[39;00m \u001b[39mnumpy\u001b[39;00m \u001b[39mas\u001b[39;00m \u001b[39mnp\u001b[39;00m\n\u001b[1;32m      <a href='vscode-notebook-cell:/home/alisa/PycharmProjects/stepik3356/numpy/essentials.ipynb#X61sZmlsZQ%3D%3D?line=2'>3</a>\u001b[0m np\u001b[39m.\u001b[39mrandom\u001b[39m.\u001b[39mseed(\u001b[39m42\u001b[39m)\n\u001b[0;32m----> <a href='vscode-notebook-cell:/home/alisa/PycharmProjects/stepik3356/numpy/essentials.ipynb#X61sZmlsZQ%3D%3D?line=4'>5</a>\u001b[0m np\u001b[39m.\u001b[39;49mreshape(\u001b[39m2\u001b[39;49m, \u001b[39m2\u001b[39;49m, \u001b[39m2\u001b[39;49m)\n",
      "File \u001b[0;32m~/PycharmProjects/stepik3356/venv/lib/python3.10/site-packages/numpy/core/fromnumeric.py:285\u001b[0m, in \u001b[0;36mreshape\u001b[0;34m(a, newshape, order)\u001b[0m\n\u001b[1;32m    200\u001b[0m \u001b[39m@array_function_dispatch\u001b[39m(_reshape_dispatcher)\n\u001b[1;32m    201\u001b[0m \u001b[39mdef\u001b[39;00m \u001b[39mreshape\u001b[39m(a, newshape, order\u001b[39m=\u001b[39m\u001b[39m'\u001b[39m\u001b[39mC\u001b[39m\u001b[39m'\u001b[39m):\n\u001b[1;32m    202\u001b[0m \u001b[39m    \u001b[39m\u001b[39m\"\"\"\u001b[39;00m\n\u001b[1;32m    203\u001b[0m \u001b[39m    Gives a new shape to an array without changing its data.\u001b[39;00m\n\u001b[1;32m    204\u001b[0m \n\u001b[0;32m   (...)\u001b[0m\n\u001b[1;32m    283\u001b[0m \u001b[39m           [5, 6]])\u001b[39;00m\n\u001b[1;32m    284\u001b[0m \u001b[39m    \"\"\"\u001b[39;00m\n\u001b[0;32m--> 285\u001b[0m     \u001b[39mreturn\u001b[39;00m _wrapfunc(a, \u001b[39m'\u001b[39;49m\u001b[39mreshape\u001b[39;49m\u001b[39m'\u001b[39;49m, newshape, order\u001b[39m=\u001b[39;49morder)\n",
      "File \u001b[0;32m~/PycharmProjects/stepik3356/venv/lib/python3.10/site-packages/numpy/core/fromnumeric.py:56\u001b[0m, in \u001b[0;36m_wrapfunc\u001b[0;34m(obj, method, *args, **kwds)\u001b[0m\n\u001b[1;32m     54\u001b[0m bound \u001b[39m=\u001b[39m \u001b[39mgetattr\u001b[39m(obj, method, \u001b[39mNone\u001b[39;00m)\n\u001b[1;32m     55\u001b[0m \u001b[39mif\u001b[39;00m bound \u001b[39mis\u001b[39;00m \u001b[39mNone\u001b[39;00m:\n\u001b[0;32m---> 56\u001b[0m     \u001b[39mreturn\u001b[39;00m _wrapit(obj, method, \u001b[39m*\u001b[39;49margs, \u001b[39m*\u001b[39;49m\u001b[39m*\u001b[39;49mkwds)\n\u001b[1;32m     58\u001b[0m \u001b[39mtry\u001b[39;00m:\n\u001b[1;32m     59\u001b[0m     \u001b[39mreturn\u001b[39;00m bound(\u001b[39m*\u001b[39margs, \u001b[39m*\u001b[39m\u001b[39m*\u001b[39mkwds)\n",
      "File \u001b[0;32m~/PycharmProjects/stepik3356/venv/lib/python3.10/site-packages/numpy/core/fromnumeric.py:45\u001b[0m, in \u001b[0;36m_wrapit\u001b[0;34m(obj, method, *args, **kwds)\u001b[0m\n\u001b[1;32m     43\u001b[0m \u001b[39mexcept\u001b[39;00m \u001b[39mAttributeError\u001b[39;00m:\n\u001b[1;32m     44\u001b[0m     wrap \u001b[39m=\u001b[39m \u001b[39mNone\u001b[39;00m\n\u001b[0;32m---> 45\u001b[0m result \u001b[39m=\u001b[39m \u001b[39mgetattr\u001b[39;49m(asarray(obj), method)(\u001b[39m*\u001b[39;49margs, \u001b[39m*\u001b[39;49m\u001b[39m*\u001b[39;49mkwds)\n\u001b[1;32m     46\u001b[0m \u001b[39mif\u001b[39;00m wrap:\n\u001b[1;32m     47\u001b[0m     \u001b[39mif\u001b[39;00m \u001b[39mnot\u001b[39;00m \u001b[39misinstance\u001b[39m(result, mu\u001b[39m.\u001b[39mndarray):\n",
      "\u001b[0;31mTypeError\u001b[0m: order must be str, not int"
     ]
    }
   ],
   "source": [
    "import numpy as np\n",
    "\n",
    "np.random.seed(42)\n",
    "\n",
    "np.reshape(2, 2, 2)\n"
   ]
  },
  {
   "cell_type": "code",
   "execution_count": 24,
   "metadata": {},
   "outputs": [
    {
     "name": "stdout",
     "output_type": "stream",
     "text": [
      "0.005522117123602399\n",
      "0.9868869366005173\n"
     ]
    }
   ],
   "source": [
    "import numpy as np\n",
    "\n",
    "n, m = 10, 10\n",
    "np.random.seed(42)\n",
    "\n",
    "Z = np.random.random_sample((n, m))\n",
    "\n",
    "print(np.min(Z))\n",
    "print(np.max(Z))"
   ]
  },
  {
   "cell_type": "code",
   "execution_count": 25,
   "metadata": {},
   "outputs": [
    {
     "ename": "ValueError",
     "evalue": "invalid literal for int() with base 10: '3,'",
     "output_type": "error",
     "traceback": [
      "\u001b[0;31m---------------------------------------------------------------------------\u001b[0m",
      "\u001b[0;31mValueError\u001b[0m                                Traceback (most recent call last)",
      "\u001b[1;32m/home/alisa/PycharmProjects/stepik3356/numpy/essentials.ipynb Cell 25\u001b[0m line \u001b[0;36m3\n\u001b[1;32m      <a href='vscode-notebook-cell:/home/alisa/PycharmProjects/stepik3356/numpy/essentials.ipynb#X33sZmlsZQ%3D%3D?line=0'>1</a>\u001b[0m \u001b[39mimport\u001b[39;00m \u001b[39mnumpy\u001b[39;00m \u001b[39mas\u001b[39;00m \u001b[39mnp\u001b[39;00m\n\u001b[0;32m----> <a href='vscode-notebook-cell:/home/alisa/PycharmProjects/stepik3356/numpy/essentials.ipynb#X33sZmlsZQ%3D%3D?line=2'>3</a>\u001b[0m n, m \u001b[39m=\u001b[39m \u001b[39mlist\u001b[39;49m(\u001b[39mmap\u001b[39;49m(\u001b[39mint\u001b[39;49m, \u001b[39minput\u001b[39;49m()\u001b[39m.\u001b[39;49msplit()))\n\u001b[1;32m      <a href='vscode-notebook-cell:/home/alisa/PycharmProjects/stepik3356/numpy/essentials.ipynb#X33sZmlsZQ%3D%3D?line=3'>4</a>\u001b[0m np\u001b[39m.\u001b[39mrandom\u001b[39m.\u001b[39mseed(\u001b[39m42\u001b[39m)\n\u001b[1;32m      <a href='vscode-notebook-cell:/home/alisa/PycharmProjects/stepik3356/numpy/essentials.ipynb#X33sZmlsZQ%3D%3D?line=5'>6</a>\u001b[0m Z \u001b[39m=\u001b[39m np\u001b[39m.\u001b[39mrandom\u001b[39m.\u001b[39mrandom_sample((n, m))\n",
      "\u001b[0;31mValueError\u001b[0m: invalid literal for int() with base 10: '3,'"
     ]
    }
   ],
   "source": [
    "import numpy as np\n",
    "\n",
    "n, m = list(map(int, input().split()))\n",
    "np.random.seed(42)\n",
    "\n",
    "Z = np.random.random_sample((n, m))\n",
    "\n",
    "print(np.mean(Z))\n"
   ]
  },
  {
   "cell_type": "code",
   "execution_count": null,
   "metadata": {},
   "outputs": [],
   "source": []
  }
 ],
 "metadata": {
  "kernelspec": {
   "display_name": "venv",
   "language": "python",
   "name": "python3"
  },
  "language_info": {
   "codemirror_mode": {
    "name": "ipython",
    "version": 3
   },
   "file_extension": ".py",
   "mimetype": "text/x-python",
   "name": "python",
   "nbconvert_exporter": "python",
   "pygments_lexer": "ipython3",
   "version": "3.10.6"
  },
  "orig_nbformat": 4
 },
 "nbformat": 4,
 "nbformat_minor": 2
}
